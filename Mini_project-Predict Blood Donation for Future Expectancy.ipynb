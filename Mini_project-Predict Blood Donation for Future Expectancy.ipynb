{
 "cells": [
  {
   "cell_type": "markdown",
   "id": "2bbfed28",
   "metadata": {},
   "source": [
    "# BATCH- JULY 2022"
   ]
  },
  {
   "cell_type": "markdown",
   "id": "ed1fe1ca",
   "metadata": {},
   "source": [
    "# TECHNOCOLABS- MINI PROJECT BY VINAY KUMAR KUSHWAHA"
   ]
  },
  {
   "cell_type": "markdown",
   "id": "509e5353",
   "metadata": {},
   "source": [
    "# Predict Blood Donation for Future Expectancy\n"
   ]
  },
  {
   "cell_type": "markdown",
   "id": "8d6c3468",
   "metadata": {},
   "source": [
    "<img src = \"blood1.png\" style=\"width:800px;height:400px\">"
   ]
  },
  {
   "cell_type": "markdown",
   "id": "fbeceea2",
   "metadata": {},
   "source": [
    "# Introduction"
   ]
  },
  {
   "cell_type": "markdown",
   "id": "f633ef3e",
   "metadata": {},
   "source": [
    "Forecasting blood supply is a serious and recurrent problem for blood collection managers: in January 2019, \"Nationwide, the Red Cross saw 27,000 fewer blood donations over the holidays than they see at other times of the year.\" Machine learning can be used to learn the patterns in the data to help to predict future blood donations and therefore save more lives."
   ]
  },
  {
   "cell_type": "markdown",
   "id": "0bbb1a27",
   "metadata": {},
   "source": [
    "# Problem Statement"
   ]
  },
  {
   "cell_type": "markdown",
   "id": "bb3e31a1",
   "metadata": {},
   "source": [
    "In this Project, We will work with data collected from the donor database of Blood Transfusion Service Center in Hsin-Chu City in Taiwan. The center passes its blood transfusion service bus to one university in Hsin-Chu City to gather blood donated about every three months. The dataset consists of a random sample of 748 donors.  Task will be to predict if a blood donor will donate within a given time window. We will look at the full model-building process: from inspecting the dataset to using the tpot library to automate your Machine Learning pipeline.\n"
   ]
  },
  {
   "cell_type": "markdown",
   "id": "58c280b6",
   "metadata": {},
   "source": [
    "# Project Tasks:"
   ]
  },
  {
   "cell_type": "markdown",
   "id": "73c43522",
   "metadata": {},
   "source": [
    "* Inspecting transfusion.data file  \n",
    "* Loading the blood donations data  \n",
    "* Inspecting transfusion DataFrame  \n",
    "* Creating target column  \n",
    "* Checking target incidence  \n",
    "* Splitting transfusion into train and test datasets  \n",
    "* Selecting model using TPOT  \n",
    "* Checking the variance  \n",
    "* Log normalization  \n",
    "* Training the model  \n",
    "* Conclusion  "
   ]
  },
  {
   "cell_type": "markdown",
   "id": "4fa6e281",
   "metadata": {},
   "source": [
    "## Importing the libraries.."
   ]
  },
  {
   "cell_type": "code",
   "execution_count": 15,
   "id": "6d628b3f",
   "metadata": {},
   "outputs": [],
   "source": [
    "#Importing the required libraries\n",
    "\n",
    "import pandas as pd \n",
    "import numpy as np\n",
    "import matplotlib.pyplot as plt\n",
    "%matplotlib inline\n",
    "import seaborn as sns\n",
    "import warnings\n",
    "warnings.filterwarnings(\"ignore\")\n"
   ]
  },
  {
   "cell_type": "code",
   "execution_count": 16,
   "id": "14b22aa0",
   "metadata": {},
   "outputs": [
    {
     "data": {
      "text/html": [
       "<div>\n",
       "<style scoped>\n",
       "    .dataframe tbody tr th:only-of-type {\n",
       "        vertical-align: middle;\n",
       "    }\n",
       "\n",
       "    .dataframe tbody tr th {\n",
       "        vertical-align: top;\n",
       "    }\n",
       "\n",
       "    .dataframe thead th {\n",
       "        text-align: right;\n",
       "    }\n",
       "</style>\n",
       "<table border=\"1\" class=\"dataframe\">\n",
       "  <thead>\n",
       "    <tr style=\"text-align: right;\">\n",
       "      <th></th>\n",
       "      <th>Recency (months)</th>\n",
       "      <th>Frequency (times)</th>\n",
       "      <th>Monetary (c.c. blood)</th>\n",
       "      <th>Time (months)</th>\n",
       "      <th>whether he/she donated blood in March 2007</th>\n",
       "    </tr>\n",
       "  </thead>\n",
       "  <tbody>\n",
       "    <tr>\n",
       "      <th>0</th>\n",
       "      <td>2</td>\n",
       "      <td>50</td>\n",
       "      <td>12500</td>\n",
       "      <td>98</td>\n",
       "      <td>1</td>\n",
       "    </tr>\n",
       "    <tr>\n",
       "      <th>1</th>\n",
       "      <td>0</td>\n",
       "      <td>13</td>\n",
       "      <td>3250</td>\n",
       "      <td>28</td>\n",
       "      <td>1</td>\n",
       "    </tr>\n",
       "    <tr>\n",
       "      <th>2</th>\n",
       "      <td>1</td>\n",
       "      <td>16</td>\n",
       "      <td>4000</td>\n",
       "      <td>35</td>\n",
       "      <td>1</td>\n",
       "    </tr>\n",
       "    <tr>\n",
       "      <th>3</th>\n",
       "      <td>2</td>\n",
       "      <td>20</td>\n",
       "      <td>5000</td>\n",
       "      <td>45</td>\n",
       "      <td>1</td>\n",
       "    </tr>\n",
       "    <tr>\n",
       "      <th>4</th>\n",
       "      <td>1</td>\n",
       "      <td>24</td>\n",
       "      <td>6000</td>\n",
       "      <td>77</td>\n",
       "      <td>0</td>\n",
       "    </tr>\n",
       "    <tr>\n",
       "      <th>...</th>\n",
       "      <td>...</td>\n",
       "      <td>...</td>\n",
       "      <td>...</td>\n",
       "      <td>...</td>\n",
       "      <td>...</td>\n",
       "    </tr>\n",
       "    <tr>\n",
       "      <th>743</th>\n",
       "      <td>23</td>\n",
       "      <td>2</td>\n",
       "      <td>500</td>\n",
       "      <td>38</td>\n",
       "      <td>0</td>\n",
       "    </tr>\n",
       "    <tr>\n",
       "      <th>744</th>\n",
       "      <td>21</td>\n",
       "      <td>2</td>\n",
       "      <td>500</td>\n",
       "      <td>52</td>\n",
       "      <td>0</td>\n",
       "    </tr>\n",
       "    <tr>\n",
       "      <th>745</th>\n",
       "      <td>23</td>\n",
       "      <td>3</td>\n",
       "      <td>750</td>\n",
       "      <td>62</td>\n",
       "      <td>0</td>\n",
       "    </tr>\n",
       "    <tr>\n",
       "      <th>746</th>\n",
       "      <td>39</td>\n",
       "      <td>1</td>\n",
       "      <td>250</td>\n",
       "      <td>39</td>\n",
       "      <td>0</td>\n",
       "    </tr>\n",
       "    <tr>\n",
       "      <th>747</th>\n",
       "      <td>72</td>\n",
       "      <td>1</td>\n",
       "      <td>250</td>\n",
       "      <td>72</td>\n",
       "      <td>0</td>\n",
       "    </tr>\n",
       "  </tbody>\n",
       "</table>\n",
       "<p>748 rows × 5 columns</p>\n",
       "</div>"
      ],
      "text/plain": [
       "     Recency (months)  Frequency (times)  Monetary (c.c. blood)  \\\n",
       "0                   2                 50                  12500   \n",
       "1                   0                 13                   3250   \n",
       "2                   1                 16                   4000   \n",
       "3                   2                 20                   5000   \n",
       "4                   1                 24                   6000   \n",
       "..                ...                ...                    ...   \n",
       "743                23                  2                    500   \n",
       "744                21                  2                    500   \n",
       "745                23                  3                    750   \n",
       "746                39                  1                    250   \n",
       "747                72                  1                    250   \n",
       "\n",
       "     Time (months)  whether he/she donated blood in March 2007  \n",
       "0               98                                           1  \n",
       "1               28                                           1  \n",
       "2               35                                           1  \n",
       "3               45                                           1  \n",
       "4               77                                           0  \n",
       "..             ...                                         ...  \n",
       "743             38                                           0  \n",
       "744             52                                           0  \n",
       "745             62                                           0  \n",
       "746             39                                           0  \n",
       "747             72                                           0  \n",
       "\n",
       "[748 rows x 5 columns]"
      ]
     },
     "execution_count": 16,
     "metadata": {},
     "output_type": "execute_result"
    }
   ],
   "source": [
    "#loading the dataset\n",
    "data = pd.read_csv(r\"C:\\Users\\HP\\Downloads\\transfusion\\transfusion.data\", delimiter=\",\" )\n",
    "data"
   ]
  },
  {
   "cell_type": "markdown",
   "id": "53902735",
   "metadata": {},
   "source": [
    "# Inspecting transfusion DataFrame"
   ]
  },
  {
   "cell_type": "markdown",
   "id": "6c69faa0",
   "metadata": {},
   "source": [
    "Let's briefly return to our discussion of RFM model. RFM stands for Recency, Frequency and Monetary Value and it is commonly used in marketing for identifying your best customers. In our case, our customers are blood donors.\n",
    "RFMTC is a variation of the RFM model. Below is a description of what each column means in our dataset:\n",
    "R (Recency - months since the last donation)\n",
    "F (Frequency - total number of donation)\n",
    "M (Monetary - total blood donated in c.c.)\n",
    "T (Time - months since the first donation)\n",
    "a binary variable representing whether he/she donated blood in March 2007 (1 stands for donating blood; 0 stands for not donating blood)\n",
    "It looks like every column in our DataFrame has the numeric type, which is exactly what we want when building a machine learning model. Let's verify our hypothesis."
   ]
  },
  {
   "cell_type": "code",
   "execution_count": 17,
   "id": "3589d448",
   "metadata": {},
   "outputs": [
    {
     "data": {
      "text/html": [
       "<div>\n",
       "<style scoped>\n",
       "    .dataframe tbody tr th:only-of-type {\n",
       "        vertical-align: middle;\n",
       "    }\n",
       "\n",
       "    .dataframe tbody tr th {\n",
       "        vertical-align: top;\n",
       "    }\n",
       "\n",
       "    .dataframe thead th {\n",
       "        text-align: right;\n",
       "    }\n",
       "</style>\n",
       "<table border=\"1\" class=\"dataframe\">\n",
       "  <thead>\n",
       "    <tr style=\"text-align: right;\">\n",
       "      <th></th>\n",
       "      <th>Recency (months)</th>\n",
       "      <th>Frequency (times)</th>\n",
       "      <th>Monetary (c.c. blood)</th>\n",
       "      <th>Time (months)</th>\n",
       "      <th>whether he/she donated blood in March 2007</th>\n",
       "    </tr>\n",
       "  </thead>\n",
       "  <tbody>\n",
       "    <tr>\n",
       "      <th>0</th>\n",
       "      <td>2</td>\n",
       "      <td>50</td>\n",
       "      <td>12500</td>\n",
       "      <td>98</td>\n",
       "      <td>1</td>\n",
       "    </tr>\n",
       "    <tr>\n",
       "      <th>1</th>\n",
       "      <td>0</td>\n",
       "      <td>13</td>\n",
       "      <td>3250</td>\n",
       "      <td>28</td>\n",
       "      <td>1</td>\n",
       "    </tr>\n",
       "    <tr>\n",
       "      <th>2</th>\n",
       "      <td>1</td>\n",
       "      <td>16</td>\n",
       "      <td>4000</td>\n",
       "      <td>35</td>\n",
       "      <td>1</td>\n",
       "    </tr>\n",
       "    <tr>\n",
       "      <th>3</th>\n",
       "      <td>2</td>\n",
       "      <td>20</td>\n",
       "      <td>5000</td>\n",
       "      <td>45</td>\n",
       "      <td>1</td>\n",
       "    </tr>\n",
       "    <tr>\n",
       "      <th>4</th>\n",
       "      <td>1</td>\n",
       "      <td>24</td>\n",
       "      <td>6000</td>\n",
       "      <td>77</td>\n",
       "      <td>0</td>\n",
       "    </tr>\n",
       "  </tbody>\n",
       "</table>\n",
       "</div>"
      ],
      "text/plain": [
       "   Recency (months)  Frequency (times)  Monetary (c.c. blood)  Time (months)  \\\n",
       "0                 2                 50                  12500             98   \n",
       "1                 0                 13                   3250             28   \n",
       "2                 1                 16                   4000             35   \n",
       "3                 2                 20                   5000             45   \n",
       "4                 1                 24                   6000             77   \n",
       "\n",
       "   whether he/she donated blood in March 2007  \n",
       "0                                           1  \n",
       "1                                           1  \n",
       "2                                           1  \n",
       "3                                           1  \n",
       "4                                           0  "
      ]
     },
     "execution_count": 17,
     "metadata": {},
     "output_type": "execute_result"
    }
   ],
   "source": [
    "#top 5 rows\n",
    "data.head()"
   ]
  },
  {
   "cell_type": "code",
   "execution_count": 18,
   "id": "e18dd1dc",
   "metadata": {},
   "outputs": [
    {
     "name": "stdout",
     "output_type": "stream",
     "text": [
      "<class 'pandas.core.frame.DataFrame'>\n",
      "RangeIndex: 748 entries, 0 to 747\n",
      "Data columns (total 5 columns):\n",
      " #   Column                                      Non-Null Count  Dtype\n",
      "---  ------                                      --------------  -----\n",
      " 0   Recency (months)                            748 non-null    int64\n",
      " 1   Frequency (times)                           748 non-null    int64\n",
      " 2   Monetary (c.c. blood)                       748 non-null    int64\n",
      " 3   Time (months)                               748 non-null    int64\n",
      " 4   whether he/she donated blood in March 2007  748 non-null    int64\n",
      "dtypes: int64(5)\n",
      "memory usage: 29.3 KB\n"
     ]
    }
   ],
   "source": [
    "#Summary of the dataset\n",
    "data.info()"
   ]
  },
  {
   "cell_type": "code",
   "execution_count": 19,
   "id": "b00374a0",
   "metadata": {},
   "outputs": [
    {
     "data": {
      "text/html": [
       "<div>\n",
       "<style scoped>\n",
       "    .dataframe tbody tr th:only-of-type {\n",
       "        vertical-align: middle;\n",
       "    }\n",
       "\n",
       "    .dataframe tbody tr th {\n",
       "        vertical-align: top;\n",
       "    }\n",
       "\n",
       "    .dataframe thead th {\n",
       "        text-align: right;\n",
       "    }\n",
       "</style>\n",
       "<table border=\"1\" class=\"dataframe\">\n",
       "  <thead>\n",
       "    <tr style=\"text-align: right;\">\n",
       "      <th></th>\n",
       "      <th>Recency (months)</th>\n",
       "      <th>Frequency (times)</th>\n",
       "      <th>Monetary (c.c. blood)</th>\n",
       "      <th>Time (months)</th>\n",
       "      <th>whether he/she donated blood in March 2007</th>\n",
       "    </tr>\n",
       "  </thead>\n",
       "  <tbody>\n",
       "    <tr>\n",
       "      <th>count</th>\n",
       "      <td>748.000000</td>\n",
       "      <td>748.000000</td>\n",
       "      <td>748.000000</td>\n",
       "      <td>748.000000</td>\n",
       "      <td>748.000000</td>\n",
       "    </tr>\n",
       "    <tr>\n",
       "      <th>mean</th>\n",
       "      <td>9.506684</td>\n",
       "      <td>5.514706</td>\n",
       "      <td>1378.676471</td>\n",
       "      <td>34.282086</td>\n",
       "      <td>0.237968</td>\n",
       "    </tr>\n",
       "    <tr>\n",
       "      <th>std</th>\n",
       "      <td>8.095396</td>\n",
       "      <td>5.839307</td>\n",
       "      <td>1459.826781</td>\n",
       "      <td>24.376714</td>\n",
       "      <td>0.426124</td>\n",
       "    </tr>\n",
       "    <tr>\n",
       "      <th>min</th>\n",
       "      <td>0.000000</td>\n",
       "      <td>1.000000</td>\n",
       "      <td>250.000000</td>\n",
       "      <td>2.000000</td>\n",
       "      <td>0.000000</td>\n",
       "    </tr>\n",
       "    <tr>\n",
       "      <th>25%</th>\n",
       "      <td>2.750000</td>\n",
       "      <td>2.000000</td>\n",
       "      <td>500.000000</td>\n",
       "      <td>16.000000</td>\n",
       "      <td>0.000000</td>\n",
       "    </tr>\n",
       "    <tr>\n",
       "      <th>50%</th>\n",
       "      <td>7.000000</td>\n",
       "      <td>4.000000</td>\n",
       "      <td>1000.000000</td>\n",
       "      <td>28.000000</td>\n",
       "      <td>0.000000</td>\n",
       "    </tr>\n",
       "    <tr>\n",
       "      <th>75%</th>\n",
       "      <td>14.000000</td>\n",
       "      <td>7.000000</td>\n",
       "      <td>1750.000000</td>\n",
       "      <td>50.000000</td>\n",
       "      <td>0.000000</td>\n",
       "    </tr>\n",
       "    <tr>\n",
       "      <th>max</th>\n",
       "      <td>74.000000</td>\n",
       "      <td>50.000000</td>\n",
       "      <td>12500.000000</td>\n",
       "      <td>98.000000</td>\n",
       "      <td>1.000000</td>\n",
       "    </tr>\n",
       "  </tbody>\n",
       "</table>\n",
       "</div>"
      ],
      "text/plain": [
       "       Recency (months)  Frequency (times)  Monetary (c.c. blood)  \\\n",
       "count        748.000000         748.000000             748.000000   \n",
       "mean           9.506684           5.514706            1378.676471   \n",
       "std            8.095396           5.839307            1459.826781   \n",
       "min            0.000000           1.000000             250.000000   \n",
       "25%            2.750000           2.000000             500.000000   \n",
       "50%            7.000000           4.000000            1000.000000   \n",
       "75%           14.000000           7.000000            1750.000000   \n",
       "max           74.000000          50.000000           12500.000000   \n",
       "\n",
       "       Time (months)  whether he/she donated blood in March 2007  \n",
       "count     748.000000                                  748.000000  \n",
       "mean       34.282086                                    0.237968  \n",
       "std        24.376714                                    0.426124  \n",
       "min         2.000000                                    0.000000  \n",
       "25%        16.000000                                    0.000000  \n",
       "50%        28.000000                                    0.000000  \n",
       "75%        50.000000                                    0.000000  \n",
       "max        98.000000                                    1.000000  "
      ]
     },
     "execution_count": 19,
     "metadata": {},
     "output_type": "execute_result"
    }
   ],
   "source": [
    "#description of the dataset\n",
    "data.describe()"
   ]
  },
  {
   "cell_type": "code",
   "execution_count": 20,
   "id": "a3b1b8ad",
   "metadata": {},
   "outputs": [
    {
     "data": {
      "text/plain": [
       "Recency (months)                              0\n",
       "Frequency (times)                             0\n",
       "Monetary (c.c. blood)                         0\n",
       "Time (months)                                 0\n",
       "whether he/she donated blood in March 2007    0\n",
       "dtype: int64"
      ]
     },
     "execution_count": 20,
     "metadata": {},
     "output_type": "execute_result"
    }
   ],
   "source": [
    "#checking any missing value\n",
    "data.isnull().sum()"
   ]
  },
  {
   "cell_type": "code",
   "execution_count": 21,
   "id": "b60546ef",
   "metadata": {},
   "outputs": [
    {
     "data": {
      "text/plain": [
       "(748, 5)"
      ]
     },
     "execution_count": 21,
     "metadata": {},
     "output_type": "execute_result"
    }
   ],
   "source": [
    "#finding the rows and columns of the dataset\n",
    "data.shape"
   ]
  },
  {
   "cell_type": "code",
   "execution_count": 22,
   "id": "c35d6e9a",
   "metadata": {},
   "outputs": [
    {
     "data": {
      "text/html": [
       "<div>\n",
       "<style scoped>\n",
       "    .dataframe tbody tr th:only-of-type {\n",
       "        vertical-align: middle;\n",
       "    }\n",
       "\n",
       "    .dataframe tbody tr th {\n",
       "        vertical-align: top;\n",
       "    }\n",
       "\n",
       "    .dataframe thead th {\n",
       "        text-align: right;\n",
       "    }\n",
       "</style>\n",
       "<table border=\"1\" class=\"dataframe\">\n",
       "  <thead>\n",
       "    <tr style=\"text-align: right;\">\n",
       "      <th></th>\n",
       "      <th>Recency (months)</th>\n",
       "      <th>Frequency (times)</th>\n",
       "      <th>Monetary (c.c. blood)</th>\n",
       "      <th>Time (months)</th>\n",
       "      <th>whether he/she donated blood in March 2007</th>\n",
       "    </tr>\n",
       "  </thead>\n",
       "  <tbody>\n",
       "    <tr>\n",
       "      <th>Recency (months)</th>\n",
       "      <td>1.000000</td>\n",
       "      <td>-0.182745</td>\n",
       "      <td>-0.182745</td>\n",
       "      <td>0.160618</td>\n",
       "      <td>-0.279869</td>\n",
       "    </tr>\n",
       "    <tr>\n",
       "      <th>Frequency (times)</th>\n",
       "      <td>-0.182745</td>\n",
       "      <td>1.000000</td>\n",
       "      <td>1.000000</td>\n",
       "      <td>0.634940</td>\n",
       "      <td>0.218633</td>\n",
       "    </tr>\n",
       "    <tr>\n",
       "      <th>Monetary (c.c. blood)</th>\n",
       "      <td>-0.182745</td>\n",
       "      <td>1.000000</td>\n",
       "      <td>1.000000</td>\n",
       "      <td>0.634940</td>\n",
       "      <td>0.218633</td>\n",
       "    </tr>\n",
       "    <tr>\n",
       "      <th>Time (months)</th>\n",
       "      <td>0.160618</td>\n",
       "      <td>0.634940</td>\n",
       "      <td>0.634940</td>\n",
       "      <td>1.000000</td>\n",
       "      <td>-0.035854</td>\n",
       "    </tr>\n",
       "    <tr>\n",
       "      <th>whether he/she donated blood in March 2007</th>\n",
       "      <td>-0.279869</td>\n",
       "      <td>0.218633</td>\n",
       "      <td>0.218633</td>\n",
       "      <td>-0.035854</td>\n",
       "      <td>1.000000</td>\n",
       "    </tr>\n",
       "  </tbody>\n",
       "</table>\n",
       "</div>"
      ],
      "text/plain": [
       "                                            Recency (months)  \\\n",
       "Recency (months)                                    1.000000   \n",
       "Frequency (times)                                  -0.182745   \n",
       "Monetary (c.c. blood)                              -0.182745   \n",
       "Time (months)                                       0.160618   \n",
       "whether he/she donated blood in March 2007         -0.279869   \n",
       "\n",
       "                                            Frequency (times)  \\\n",
       "Recency (months)                                    -0.182745   \n",
       "Frequency (times)                                    1.000000   \n",
       "Monetary (c.c. blood)                                1.000000   \n",
       "Time (months)                                        0.634940   \n",
       "whether he/she donated blood in March 2007           0.218633   \n",
       "\n",
       "                                            Monetary (c.c. blood)  \\\n",
       "Recency (months)                                        -0.182745   \n",
       "Frequency (times)                                        1.000000   \n",
       "Monetary (c.c. blood)                                    1.000000   \n",
       "Time (months)                                            0.634940   \n",
       "whether he/she donated blood in March 2007               0.218633   \n",
       "\n",
       "                                            Time (months)  \\\n",
       "Recency (months)                                 0.160618   \n",
       "Frequency (times)                                0.634940   \n",
       "Monetary (c.c. blood)                            0.634940   \n",
       "Time (months)                                    1.000000   \n",
       "whether he/she donated blood in March 2007      -0.035854   \n",
       "\n",
       "                                            whether he/she donated blood in March 2007  \n",
       "Recency (months)                                                             -0.279869  \n",
       "Frequency (times)                                                             0.218633  \n",
       "Monetary (c.c. blood)                                                         0.218633  \n",
       "Time (months)                                                                -0.035854  \n",
       "whether he/she donated blood in March 2007                                    1.000000  "
      ]
     },
     "execution_count": 22,
     "metadata": {},
     "output_type": "execute_result"
    }
   ],
   "source": [
    "data.corr()"
   ]
  },
  {
   "cell_type": "markdown",
   "id": "6cfa3c61",
   "metadata": {},
   "source": [
    "# Creating target column"
   ]
  },
  {
   "cell_type": "markdown",
   "id": "e48fe599",
   "metadata": {},
   "source": [
    "We are aiming to predict the value in whether he/she donated blood in March 2007 column.    Let's rename this it to target so that it's more convenient to work with."
   ]
  },
  {
   "cell_type": "code",
   "execution_count": 23,
   "id": "57613b34",
   "metadata": {},
   "outputs": [
    {
     "data": {
      "text/html": [
       "<div>\n",
       "<style scoped>\n",
       "    .dataframe tbody tr th:only-of-type {\n",
       "        vertical-align: middle;\n",
       "    }\n",
       "\n",
       "    .dataframe tbody tr th {\n",
       "        vertical-align: top;\n",
       "    }\n",
       "\n",
       "    .dataframe thead th {\n",
       "        text-align: right;\n",
       "    }\n",
       "</style>\n",
       "<table border=\"1\" class=\"dataframe\">\n",
       "  <thead>\n",
       "    <tr style=\"text-align: right;\">\n",
       "      <th></th>\n",
       "      <th>Recency (months)</th>\n",
       "      <th>Frequency (times)</th>\n",
       "      <th>Monetary (c.c. blood)</th>\n",
       "      <th>Time (months)</th>\n",
       "      <th>target</th>\n",
       "    </tr>\n",
       "  </thead>\n",
       "  <tbody>\n",
       "    <tr>\n",
       "      <th>0</th>\n",
       "      <td>2</td>\n",
       "      <td>50</td>\n",
       "      <td>12500</td>\n",
       "      <td>98</td>\n",
       "      <td>1</td>\n",
       "    </tr>\n",
       "    <tr>\n",
       "      <th>1</th>\n",
       "      <td>0</td>\n",
       "      <td>13</td>\n",
       "      <td>3250</td>\n",
       "      <td>28</td>\n",
       "      <td>1</td>\n",
       "    </tr>\n",
       "    <tr>\n",
       "      <th>2</th>\n",
       "      <td>1</td>\n",
       "      <td>16</td>\n",
       "      <td>4000</td>\n",
       "      <td>35</td>\n",
       "      <td>1</td>\n",
       "    </tr>\n",
       "    <tr>\n",
       "      <th>3</th>\n",
       "      <td>2</td>\n",
       "      <td>20</td>\n",
       "      <td>5000</td>\n",
       "      <td>45</td>\n",
       "      <td>1</td>\n",
       "    </tr>\n",
       "    <tr>\n",
       "      <th>4</th>\n",
       "      <td>1</td>\n",
       "      <td>24</td>\n",
       "      <td>6000</td>\n",
       "      <td>77</td>\n",
       "      <td>0</td>\n",
       "    </tr>\n",
       "  </tbody>\n",
       "</table>\n",
       "</div>"
      ],
      "text/plain": [
       "   Recency (months)  Frequency (times)  Monetary (c.c. blood)  Time (months)  \\\n",
       "0                 2                 50                  12500             98   \n",
       "1                 0                 13                   3250             28   \n",
       "2                 1                 16                   4000             35   \n",
       "3                 2                 20                   5000             45   \n",
       "4                 1                 24                   6000             77   \n",
       "\n",
       "   target  \n",
       "0       1  \n",
       "1       1  \n",
       "2       1  \n",
       "3       1  \n",
       "4       0  "
      ]
     },
     "execution_count": 23,
     "metadata": {},
     "output_type": "execute_result"
    }
   ],
   "source": [
    "#Renaming the dataset\n",
    "data.rename(columns={'whether he/she donated blood in March 2007':'target'}, inplace=True)\n",
    "data.head()"
   ]
  },
  {
   "cell_type": "markdown",
   "id": "678bd1bd",
   "metadata": {},
   "source": [
    "# Checking target incidence"
   ]
  },
  {
   "cell_type": "markdown",
   "id": "08d59e4c",
   "metadata": {},
   "source": [
    "We want to predict whether or not the same donor will give blood the next time the vehicle comes to campus. The model for this is a binary classifier, meaning that there are only 2 possible outcomes:  \n",
    "0 - the donor will not give blood  \n",
    "1 - the donor will give blood  \n",
    "Target incidence is defined as the number of cases of each individual target value in a dataset. That is, how many 0s in the target column compared to how many 1s? Target incidence gives us an idea of how balanced (or imbalanced) is our dataset."
   ]
  },
  {
   "cell_type": "code",
   "execution_count": 93,
   "id": "36fe65b1",
   "metadata": {},
   "outputs": [
    {
     "data": {
      "text/plain": [
       "0    76.203%\n",
       "1    23.797%\n",
       "Name: target, dtype: object"
      ]
     },
     "execution_count": 93,
     "metadata": {},
     "output_type": "execute_result"
    }
   ],
   "source": [
    "#percentage of donors and non-donors \n",
    "data.target.value_counts(normalize=True).mul(100).round(3).astype(str) + \"%\""
   ]
  },
  {
   "cell_type": "code",
   "execution_count": 25,
   "id": "84d5d3fd",
   "metadata": {},
   "outputs": [
    {
     "data": {
      "text/html": [
       "<div>\n",
       "<style scoped>\n",
       "    .dataframe tbody tr th:only-of-type {\n",
       "        vertical-align: middle;\n",
       "    }\n",
       "\n",
       "    .dataframe tbody tr th {\n",
       "        vertical-align: top;\n",
       "    }\n",
       "\n",
       "    .dataframe thead th {\n",
       "        text-align: right;\n",
       "    }\n",
       "</style>\n",
       "<table border=\"1\" class=\"dataframe\">\n",
       "  <thead>\n",
       "    <tr style=\"text-align: right;\">\n",
       "      <th></th>\n",
       "      <th>Recency (months)</th>\n",
       "      <th>Frequency (times)</th>\n",
       "      <th>Monetary (c.c. blood)</th>\n",
       "      <th>Time (months)</th>\n",
       "    </tr>\n",
       "  </thead>\n",
       "  <tbody>\n",
       "    <tr>\n",
       "      <th>0</th>\n",
       "      <td>2</td>\n",
       "      <td>50</td>\n",
       "      <td>12500</td>\n",
       "      <td>98</td>\n",
       "    </tr>\n",
       "    <tr>\n",
       "      <th>1</th>\n",
       "      <td>0</td>\n",
       "      <td>13</td>\n",
       "      <td>3250</td>\n",
       "      <td>28</td>\n",
       "    </tr>\n",
       "    <tr>\n",
       "      <th>2</th>\n",
       "      <td>1</td>\n",
       "      <td>16</td>\n",
       "      <td>4000</td>\n",
       "      <td>35</td>\n",
       "    </tr>\n",
       "    <tr>\n",
       "      <th>3</th>\n",
       "      <td>2</td>\n",
       "      <td>20</td>\n",
       "      <td>5000</td>\n",
       "      <td>45</td>\n",
       "    </tr>\n",
       "    <tr>\n",
       "      <th>4</th>\n",
       "      <td>1</td>\n",
       "      <td>24</td>\n",
       "      <td>6000</td>\n",
       "      <td>77</td>\n",
       "    </tr>\n",
       "  </tbody>\n",
       "</table>\n",
       "</div>"
      ],
      "text/plain": [
       "   Recency (months)  Frequency (times)  Monetary (c.c. blood)  Time (months)\n",
       "0                 2                 50                  12500             98\n",
       "1                 0                 13                   3250             28\n",
       "2                 1                 16                   4000             35\n",
       "3                 2                 20                   5000             45\n",
       "4                 1                 24                   6000             77"
      ]
     },
     "execution_count": 25,
     "metadata": {},
     "output_type": "execute_result"
    }
   ],
   "source": [
    "#dropping the target columns\n",
    "X_data = data.drop(columns='target')\n",
    "X_data.head()"
   ]
  },
  {
   "cell_type": "code",
   "execution_count": 26,
   "id": "39c375de",
   "metadata": {},
   "outputs": [
    {
     "data": {
      "text/plain": [
       "0    1\n",
       "1    1\n",
       "2    1\n",
       "3    1\n",
       "4    0\n",
       "Name: target, dtype: int64"
      ]
     },
     "execution_count": 26,
     "metadata": {},
     "output_type": "execute_result"
    }
   ],
   "source": [
    "#checking target columns\n",
    "Y_data = data.target\n",
    "Y_data.head()"
   ]
  },
  {
   "cell_type": "markdown",
   "id": "34a2a215",
   "metadata": {},
   "source": [
    "# Splitting transfusion into train and test datasets"
   ]
  },
  {
   "cell_type": "markdown",
   "id": "2059f1e3",
   "metadata": {},
   "source": [
    "We'll now use train_test_split() method to split transfusion DataFrame.  \n",
    "Target incidence informed us that in our dataset 0s appear 76% of the time. We want to keep the same structure in train and test datasets, i.e., both datasets must have 0 target incidence of 76%. This is very easy to do using the train_test_split() method from the scikit learn library - all we need to do is specify the stratify parameter. In our case, we'll stratify on the target column."
   ]
  },
  {
   "cell_type": "code",
   "execution_count": 27,
   "id": "79b22feb",
   "metadata": {},
   "outputs": [],
   "source": [
    "# Import train_test_split method\n",
    "from sklearn.model_selection import train_test_split\n",
    "X_train, X_test, y_train, y_test = train_test_split(X_data,Y_data,test_size=0.25,random_state=23,stratify=data.target)"
   ]
  },
  {
   "cell_type": "code",
   "execution_count": 28,
   "id": "2870bbb0",
   "metadata": {},
   "outputs": [
    {
     "data": {
      "text/plain": [
       "(     Recency (months)  Frequency (times)  Monetary (c.c. blood)  Time (months)\n",
       " 658                11                  3                    750             26\n",
       " 70                  2                  4                   1000             16\n",
       " 294                11                  5                   1250             35\n",
       " 590                 2                  1                    250              2\n",
       " 125                 2                  5                   1250             34\n",
       " ..                ...                ...                    ...            ...\n",
       " 124                 2                  4                   1000             26\n",
       " 480                23                  1                    250             23\n",
       " 434                14                  2                    500             35\n",
       " 619                 4                  1                    250              4\n",
       " 466                23                  4                   1000             45\n",
       " \n",
       " [561 rows x 4 columns],\n",
       "      Recency (months)  Frequency (times)  Monetary (c.c. blood)  Time (months)\n",
       " 552                 4                  6                   1500             28\n",
       " 718                21                  3                    750             35\n",
       " 109                 2                 10                   2500             64\n",
       " 545                 4                  2                    500              4\n",
       " 251                 2                  6                   1500             75\n",
       " ..                ...                ...                    ...            ...\n",
       " 726                25                  6                   1500             50\n",
       " 577                 9                  9                   2250             38\n",
       " 702                16                  1                    250             16\n",
       " 249                11                  2                    500             11\n",
       " 24                  9                  9                   2250             16\n",
       " \n",
       " [187 rows x 4 columns])"
      ]
     },
     "execution_count": 28,
     "metadata": {},
     "output_type": "execute_result"
    }
   ],
   "source": [
    "#dataset of X\n",
    "X_train,X_test"
   ]
  },
  {
   "cell_type": "code",
   "execution_count": 37,
   "id": "953e345d",
   "metadata": {},
   "outputs": [
    {
     "data": {
      "text/plain": [
       "(658    0\n",
       " 70     0\n",
       " 294    0\n",
       " 590    0\n",
       " 125    0\n",
       "       ..\n",
       " 124    0\n",
       " 480    0\n",
       " 434    0\n",
       " 619    0\n",
       " 466    0\n",
       " Name: target, Length: 561, dtype: int64,\n",
       " 552    1\n",
       " 718    0\n",
       " 109    0\n",
       " 545    1\n",
       " 251    0\n",
       "       ..\n",
       " 726    0\n",
       " 577    0\n",
       " 702    0\n",
       " 249    0\n",
       " 24     0\n",
       " Name: target, Length: 187, dtype: int64)"
      ]
     },
     "execution_count": 37,
     "metadata": {},
     "output_type": "execute_result"
    }
   ],
   "source": [
    "#dataset of Y\n",
    "y_train, y_test"
   ]
  },
  {
   "cell_type": "markdown",
   "id": "9ec997b7",
   "metadata": {},
   "source": [
    "# Selecting model using TPOT"
   ]
  },
  {
   "cell_type": "markdown",
   "id": "eb79540f",
   "metadata": {},
   "source": [
    "TPOT is a Python Automated Machine Learning tool that optimizes machine learning pipelines using genetic programming."
   ]
  },
  {
   "cell_type": "markdown",
   "id": "35ff8223",
   "metadata": {},
   "source": [
    "<img src = \"wpt2.png\" style=\"width:800px;height:400px\">"
   ]
  },
  {
   "cell_type": "markdown",
   "id": "aeabb664",
   "metadata": {},
   "source": [
    "TPOT will automatically explore hundreds of possible pipelines to find the best one for our dataset. Note, the outcome of this search will be a scikit-learn pipeline, meaning it will include any pre-processing steps as well as the model.\n",
    "We are using TPOT to help us zero in on one model that we can then explore and optimize further."
   ]
  },
  {
   "cell_type": "code",
   "execution_count": 45,
   "id": "44f6912f",
   "metadata": {},
   "outputs": [
    {
     "data": {
      "application/vnd.jupyter.widget-view+json": {
       "model_id": "",
       "version_major": 2,
       "version_minor": 0
      },
      "text/plain": [
       "Optimization Progress:   0%|          | 0/160 [00:00<?, ?pipeline/s]"
      ]
     },
     "metadata": {},
     "output_type": "display_data"
    },
    {
     "name": "stdout",
     "output_type": "stream",
     "text": [
      "\n",
      "Generation 1 - Current best internal CV score: 0.7447138135715426\n",
      "\n",
      "Generation 2 - Current best internal CV score: 0.7447204391595637\n",
      "\n",
      "Generation 3 - Current best internal CV score: 0.7447204391595637\n",
      "\n",
      "Generation 4 - Current best internal CV score: 0.7447204391595637\n",
      "\n",
      "Generation 5 - Current best internal CV score: 0.7522352200669574\n",
      "\n",
      "Generation 6 - Current best internal CV score: 0.7612278968434919\n",
      "\n",
      "Generation 7 - Current best internal CV score: 0.7612278968434919\n",
      "\n",
      "Best pipeline: LogisticRegression(RobustScaler(ZeroCount(MinMaxScaler(input_matrix))), C=0.5, dual=False, penalty=l2)\n"
     ]
    },
    {
     "data": {
      "text/plain": [
       "TPOTClassifier(config_dict='TPOT light', disable_update_check=True,\n",
       "               generations=7, population_size=20, random_state=23,\n",
       "               scoring='roc_auc', verbosity=2)"
      ]
     },
     "execution_count": 45,
     "metadata": {},
     "output_type": "execute_result"
    }
   ],
   "source": [
    "#Importing the tpot..\n",
    "\n",
    "from tpot import TPOTClassifier\n",
    "from sklearn.metrics import roc_auc_score\n",
    "tpot = TPOTClassifier(generations=7,\n",
    "                        population_size=20,\n",
    "                        verbosity=2,\n",
    "                        scoring='roc_auc',\n",
    "                        random_state=23,\n",
    "                        disable_update_check=True,\n",
    "                        config_dict='TPOT light')\n",
    "                    \n",
    "tpot.fit(X_train, y_train)\n"
   ]
  },
  {
   "cell_type": "code",
   "execution_count": 100,
   "id": "884ef4d3",
   "metadata": {},
   "outputs": [
    {
     "name": "stdout",
     "output_type": "stream",
     "text": [
      "\n",
      "Best pipeline steps:\n",
      "1. MinMaxScaler()\n",
      "2. ZeroCount()\n",
      "3. RobustScaler()\n",
      "4. LogisticRegression(C=0.5, random_state=23)\n"
     ]
    }
   ],
   "source": [
    "#selecting best pipleline..\n",
    "print('\\nBest pipeline steps:', end='\\n')\n",
    "for pl, (name, transform) in enumerate(tpot.fitted_pipeline_.steps, start=1):\n",
    "    print(f'{pl}. {transform}')"
   ]
  },
  {
   "cell_type": "code",
   "execution_count": 110,
   "id": "b02c4144",
   "metadata": {},
   "outputs": [
    {
     "name": "stdout",
     "output_type": "stream",
     "text": [
      "\n",
      "AUC score : 0.75814\n"
     ]
    }
   ],
   "source": [
    "#AUC score of the new normalized model..\n",
    "\n",
    "tpot_auc_score = roc_auc_score(y_test, tpot.predict_proba(X_test)[:, 1])\n",
    "print(f'\\nAUC score : {tpot_auc_score:.5f}')"
   ]
  },
  {
   "cell_type": "markdown",
   "id": "fa9a7a3d",
   "metadata": {},
   "source": [
    "# Checking the variance"
   ]
  },
  {
   "cell_type": "markdown",
   "id": "d8eabfea",
   "metadata": {},
   "source": [
    "TPOT picked LogisticRegression as the best model for our dataset with no pre-processing steps, giving us the AUC score of 0.7850. This is a great starting point. Let's see if we can make it better.\n",
    "One of the assumptions for linear regression models is that the data and the features we are giving it are related in a linear fashion, or can be measured with a linear distance metric. If a feature in our dataset has a high variance that's an order of magnitude or more greater than the other features, this could impact the model's ability to learn from other features in the dataset.\n",
    "Correcting for high variance is called normalization. It is one of the possible transformations you do before training a model. Let's check the variance to see if such transformation is needed."
   ]
  },
  {
   "cell_type": "code",
   "execution_count": 47,
   "id": "d74aa7b7",
   "metadata": {},
   "outputs": [
    {
     "data": {
      "text/plain": [
       "Recency (months)              70.93\n",
       "Frequency (times)             34.51\n",
       "Monetary (c.c. blood)    2156724.28\n",
       "Time (months)                586.29\n",
       "dtype: float64"
      ]
     },
     "execution_count": 47,
     "metadata": {},
     "output_type": "execute_result"
    }
   ],
   "source": [
    "X_train.var().round(2)"
   ]
  },
  {
   "cell_type": "markdown",
   "id": "53630f44",
   "metadata": {},
   "source": [
    "# Log normalization"
   ]
  },
  {
   "cell_type": "markdown",
   "id": "1f8663ec",
   "metadata": {},
   "source": [
    "Monetary (c.c. blood)'s variance is very high in comparison to any other column in the dataset. This means that, unless accounted for, this feature may get more weight by the model (i.e., be seen as more important) than any other feature.\n",
    "One way to correct for high variance is to use log normalization."
   ]
  },
  {
   "cell_type": "code",
   "execution_count": 61,
   "id": "d09e5239",
   "metadata": {},
   "outputs": [],
   "source": [
    "# normalize the column\n",
    "col_norm = [\"Monetary (c.c. blood)\"]\n",
    "\n",
    "# Copy X_train and X_test into X_train_norm and X_test_norm\n",
    "X_train_norm, X_test_norm = X_train.copy(), X_test.copy()\n",
    "\n",
    "# Log normalization\n",
    "for data_norm in [X_train_norm, X_test_norm]:\n",
    "    # Add log normalized column\n",
    "    data_norm['monetary_in_log'] = np.log(data_norm[col_norm])\n",
    "    # Drop the original column\n",
    "    data_norm.drop(columns=col_norm, inplace=True)"
   ]
  },
  {
   "cell_type": "markdown",
   "id": "4007ec18",
   "metadata": {},
   "source": [
    "The variance looks much better now. Notice that now Time (months) has the largest variance, but it's not the orders of magnitude higher than the rest of the variables, so we'll leave it as is."
   ]
  },
  {
   "cell_type": "code",
   "execution_count": 111,
   "id": "419f9d95",
   "metadata": {},
   "outputs": [
    {
     "data": {
      "text/plain": [
       "Recency (months)      70.93\n",
       "Frequency (times)     34.51\n",
       "Time (months)        586.29\n",
       "monetary_in_log        0.85\n",
       "dtype: float64"
      ]
     },
     "execution_count": 111,
     "metadata": {},
     "output_type": "execute_result"
    }
   ],
   "source": [
    "X_train_norm.var().round(2)"
   ]
  },
  {
   "cell_type": "markdown",
   "id": "5dedeecd",
   "metadata": {},
   "source": [
    "# Training the model"
   ]
  },
  {
   "cell_type": "code",
   "execution_count": 63,
   "id": "ad070798",
   "metadata": {},
   "outputs": [
    {
     "data": {
      "text/plain": [
       "LogisticRegression(C=0.5, random_state=23)"
      ]
     },
     "execution_count": 63,
     "metadata": {},
     "output_type": "execute_result"
    }
   ],
   "source": [
    "#importing logistic regression..\n",
    "\n",
    "from sklearn.linear_model import LogisticRegression\n",
    "logreg = LogisticRegression(C=0.5, random_state=23)\n",
    "\n",
    "# Train the model\n",
    "logreg.fit(X_train_norm, y_train)"
   ]
  },
  {
   "cell_type": "code",
   "execution_count": 109,
   "id": "f2c9beed",
   "metadata": {},
   "outputs": [
    {
     "name": "stdout",
     "output_type": "stream",
     "text": [
      "\n",
      "AUC score :0.78693\n"
     ]
    }
   ],
   "source": [
    "# AUC score for normalized logistic model\n",
    "logreg_auc_score = roc_auc_score(y_test, logreg.predict_proba(X_test_norm)[:, 1])\n",
    "print(f'\\nAUC score :{logreg_auc_score:.5f}' )"
   ]
  },
  {
   "cell_type": "code",
   "execution_count": null,
   "id": "68edfa59",
   "metadata": {},
   "outputs": [],
   "source": []
  },
  {
   "cell_type": "markdown",
   "id": "6cd97f0d",
   "metadata": {},
   "source": [
    "# Conclusion"
   ]
  },
  {
   "cell_type": "markdown",
   "id": "0f0615de",
   "metadata": {},
   "source": [
    "The demand for blood fluctuates throughout the year. As one prominent example, blood donations slow down during busy holiday seasons. An accurate forecast for the future supply of blood allows for an appropriate action to be taken ahead of time and therefore saving more lives.  "
   ]
  },
  {
   "cell_type": "markdown",
   "id": "8cb23149",
   "metadata": {},
   "source": [
    "We explored automatic model selection using TPOT and AUC score we got was \"0.75814\". This is better than simply choosing 0 all the time (the target incidence suggests that such a model would have 76% success rate). We then log normalized our training data and improved the AUC score to \"0.78693\".   \n",
    "In the field of machine learning, even small improvements in accuracy can be important.  \n",
    "So, our normalized new model is better than previous model."
   ]
  }
 ],
 "metadata": {
  "kernelspec": {
   "display_name": "Python 3 (ipykernel)",
   "language": "python",
   "name": "python3"
  },
  "language_info": {
   "codemirror_mode": {
    "name": "ipython",
    "version": 3
   },
   "file_extension": ".py",
   "mimetype": "text/x-python",
   "name": "python",
   "nbconvert_exporter": "python",
   "pygments_lexer": "ipython3",
   "version": "3.9.7"
  }
 },
 "nbformat": 4,
 "nbformat_minor": 5
}
